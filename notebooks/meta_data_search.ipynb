{
 "cells": [
  {
   "cell_type": "code",
   "execution_count": 4,
   "metadata": {},
   "outputs": [],
   "source": [
    "import numpy as np\n",
    "import os\n",
    "import sys\n",
    "from sentence_transformers import SentenceTransformer\n",
    "import importlib.util\n",
    "\n",
    "sys.path.append('/Users/vijaykatta/Documents/Projects/local_doc_search')\n",
    "sys.path.append('/Users/vijaykatta/Documents/Projects/local_doc_search/utils')\n",
    "from utils.file_system_utils import FolderNode, build_tree, print_tree, fetch_parents, embedding_model"
   ]
  },
  {
   "cell_type": "code",
   "execution_count": 24,
   "metadata": {},
   "outputs": [
    {
     "name": "stdout",
     "output_type": "stream",
     "text": [
      "\n",
      "Parents from the given node to the root:\n",
      "Name: test_folder, Path: /Users/vijaykatta/Documents/Projects/local_doc_search/tests/test_folder\n"
     ]
    }
   ],
   "source": [
    "# Specify the root directory you want to analyze\n",
    "root_directory = '/Users/vijaykatta/Documents/Projects/local_doc_search/tests/test_folder'\n",
    "#root_directory = '/Users/vijaykatta/Documents'\n",
    "# Build the tree\n",
    "tree_root = build_tree(root_directory)\n",
    "\n",
    "# Print the tree structure\n",
    "#print_tree(tree_root)\n",
    "\n",
    "# Example usage: Fetch and print parents of a given node\n",
    "# Assuming you have a reference to a node `some_node`\n",
    "some_node = tree_root.children[-1]  # Example: Get the first child of root for demonstration\n",
    "parents = fetch_parents(some_node)\n",
    "print(\"\\nParents from the given node to the root:\")\n",
    "for parent in reversed(parents):  # Reverse to print from root to the given node\n",
    "    print(f'Name: {parent.name}, Path: {parent.path}')"
   ]
  },
  {
   "cell_type": "code",
   "execution_count": 25,
   "metadata": {},
   "outputs": [
    {
     "name": "stdout",
     "output_type": "stream",
     "text": [
      "folder_path: /Users/vijaykatta/Documents/Projects/local_doc_search/tests/test_folder\n"
     ]
    }
   ],
   "source": [
    "def find_closest_node(root, query_vector, max_similarity=-np.inf, closest_node=None):\n",
    "    \"\"\"\n",
    "    Finds the node whose README vector is closest to the query vector in terms of cosine similarity.\n",
    "    \"\"\"\n",
    "    if root.readme_vector is not None:\n",
    "        similarity = np.dot(query_vector, root.readme_vector) / (np.linalg.norm(query_vector) * np.linalg.norm(root.readme_vector))\n",
    "        if similarity > max_similarity:  # Changed to check for greater similarity\n",
    "            max_similarity = similarity\n",
    "            closest_node = root\n",
    "\n",
    "    for child in root.children:\n",
    "        closest_node, max_similarity = find_closest_node(child, query_vector, max_similarity, closest_node)\n",
    "\n",
    "    return closest_node, max_similarity\n",
    "\n",
    "def search_and_read_readmes(root, query):\n",
    "    query_vector = embedding_model.encode(query)\n",
    "    closest_node, _ = find_closest_node(root, query_vector)\n",
    "\n",
    "    # Read READMEs from the closest node to the root\n",
    "    current_node = closest_node\n",
    "    while current_node is not None:\n",
    "        if current_node.readme_content:\n",
    "            print(f\"folder_path: {os.path.abspath(current_node.path)}\")\n",
    "        current_node = current_node.parent\n",
    "\n",
    "# Usage\n",
    "tree_root = build_tree(root_directory)  # Build the tree\n",
    "search_and_read_readmes(tree_root, \"testing\")"
   ]
  },
  {
   "cell_type": "code",
   "execution_count": null,
   "metadata": {},
   "outputs": [],
   "source": []
  }
 ],
 "metadata": {
  "kernelspec": {
   "display_name": "base",
   "language": "python",
   "name": "python3"
  },
  "language_info": {
   "codemirror_mode": {
    "name": "ipython",
    "version": 3
   },
   "file_extension": ".py",
   "mimetype": "text/x-python",
   "name": "python",
   "nbconvert_exporter": "python",
   "pygments_lexer": "ipython3",
   "version": "3.11.4"
  }
 },
 "nbformat": 4,
 "nbformat_minor": 2
}
