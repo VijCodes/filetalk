{
 "cells": [
  {
   "cell_type": "code",
   "execution_count": 1,
   "metadata": {},
   "outputs": [
    {
     "name": "stderr",
     "output_type": "stream",
     "text": [
      "/opt/homebrew/Caskroom/miniconda/base/lib/python3.11/site-packages/tqdm/auto.py:21: TqdmWarning: IProgress not found. Please update jupyter and ipywidgets. See https://ipywidgets.readthedocs.io/en/stable/user_install.html\n",
      "  from .autonotebook import tqdm as notebook_tqdm\n"
     ]
    },
    {
     "ename": "ModuleNotFoundError",
     "evalue": "No module named 'utils'",
     "output_type": "error",
     "traceback": [
      "\u001b[0;31m---------------------------------------------------------------------------\u001b[0m",
      "\u001b[0;31mModuleNotFoundError\u001b[0m                       Traceback (most recent call last)",
      "Cell \u001b[0;32mIn[1], line 9\u001b[0m\n\u001b[1;32m      7\u001b[0m sys\u001b[38;5;241m.\u001b[39mpath\u001b[38;5;241m.\u001b[39mappend(\u001b[38;5;124m'\u001b[39m\u001b[38;5;124m/Users/vijaykatta/Documents/Projects/filetalk\u001b[39m\u001b[38;5;124m'\u001b[39m)\n\u001b[1;32m      8\u001b[0m sys\u001b[38;5;241m.\u001b[39mpath\u001b[38;5;241m.\u001b[39mappend(\u001b[38;5;124m'\u001b[39m\u001b[38;5;124m/Users/vijaykatta/Documents/Projects/filetalk/src\u001b[39m\u001b[38;5;124m'\u001b[39m)\n\u001b[0;32m----> 9\u001b[0m \u001b[38;5;28;01mfrom\u001b[39;00m \u001b[38;5;21;01mutils\u001b[39;00m\u001b[38;5;21;01m.\u001b[39;00m\u001b[38;5;21;01mfile_system_utils\u001b[39;00m \u001b[38;5;28;01mimport\u001b[39;00m FolderNode, build_tree, print_tree, fetch_parents, embedding_model\n",
      "\u001b[0;31mModuleNotFoundError\u001b[0m: No module named 'utils'"
     ]
    }
   ],
   "source": [
    "import numpy as np\n",
    "import os\n",
    "import sys\n",
    "from sentence_transformers import SentenceTransformer\n",
    "import importlib.util\n",
    "\n",
    "sys.path.append('/Users/vijaykatta/Documents/Projects/filetalk')\n",
    "sys.path.append('/Users/vijaykatta/Documents/Projects/filetalk/src')\n",
    "from utils.file_system_utils import FolderNode, build_tree, print_tree, fetch_parents, embedding_model"
   ]
  },
  {
   "cell_type": "code",
   "execution_count": 2,
   "metadata": {},
   "outputs": [
    {
     "name": "stdout",
     "output_type": "stream",
     "text": [
      "[D] filetalk\n",
      "  [D] Documentation\n",
      "    [F] High level Design.drawio\n",
      "    [F] process documentation.MD\n",
      "  [F] .DS_Store\n",
      "  [F] LICENSE\n",
      "  [D] tests\n",
      "    [D] test_folder\n",
      "      [D] Statistics\n",
      "        [F] .DS_Store\n",
      "        [D] Bayesian Statistics\n",
      "          [F] readme.md\n",
      "        [D] ML related Stats\n",
      "      [F] .DS_Store\n",
      "      [D] Projects\n",
      "        [F] ReaDme.md\n",
      "        [D] Recommender\n",
      "          [F] readme.md\n",
      "        [D] Fraud Analytics\n",
      "          [F] readme.MD\n",
      "      [F] readme.md\n",
      "    [F] usual questions.md\n",
      "    [F] .DS_Store\n",
      "    [D] test_utils\n",
      "      [F] readme.md\n",
      "    [D] test_src\n",
      "      [F] readme.md\n",
      "  [D] __pycache__\n",
      "    [F] main.cpython-311.pyc\n",
      "    [F] embedding_model.cpython-311.pyc\n",
      "    [F] filestructure_extraction.cpython-311.pyc\n",
      "    [F] __init__.cpython-311.pyc\n",
      "  [F] README.MD\n",
      "  [F] setup.py\n",
      "  [D] homebrew \n",
      "    [F] filetalk.rb\n",
      "  [D] notebooks\n",
      "    [F] meta_data_search.ipynb\n",
      "  [D] src\n",
      "    [D] utils\n",
      "      [F] model_utils.py\n",
      "      [F] __init__.py\n",
      "      [D] __pycache__\n",
      "        [F] embedding_model.cpython-311.pyc\n",
      "        [F] model_utils.cpython-311.pyc\n",
      "        [F] file_system_utils.cpython-311.pyc\n",
      "        [F] __init__.cpython-311.pyc\n",
      "      [F] file_system_utils.py\n",
      "    [D] __pycache__\n",
      "      [F] filestructure_extraction.cpython-311.pyc\n",
      "    [F] main.py\n",
      "\n",
      "Parents from the given node to the root:\n",
      "Name: filetalk, Path: /Users/vijaykatta/Documents/Projects/filetalk\n"
     ]
    }
   ],
   "source": [
    "# Specify the root directory you want to analyze\n",
    "root_directory = '/Users/vijaykatta/Documents/Projects/filetalk'\n",
    "#root_directory = '/Users/vijaykatta/Documents'\n",
    "# Build the tree\n",
    "tree_root = build_tree(root_directory)\n",
    "\n",
    "# Print the tree structure\n",
    "print_tree(tree_root)\n",
    "\n",
    "# Example usage: Fetch and print parents of a given node\n",
    "# Assuming you have a reference to a node `some_node`\n",
    "some_node = tree_root.children[-1]  # Example: Get the first child of root for demonstration\n",
    "parents = fetch_parents(some_node)\n",
    "print(\"\\nParents from the given node to the root:\")\n",
    "for parent in reversed(parents):  # Reverse to print from root to the given node\n",
    "    print(f'Name: {parent.name}, Path: {parent.path}')"
   ]
  },
  {
   "cell_type": "code",
   "execution_count": 25,
   "metadata": {},
   "outputs": [
    {
     "name": "stdout",
     "output_type": "stream",
     "text": [
      "folder_path: /Users/vijaykatta/Documents/Projects/local_doc_search/tests/test_folder\n"
     ]
    }
   ],
   "source": [
    "def find_closest_node(root, query_vector, max_similarity=-np.inf, closest_node=None):\n",
    "    \"\"\"\n",
    "    Finds the node whose README vector is closest to the query vector in terms of cosine similarity.\n",
    "    \"\"\"\n",
    "    if root.readme_vector is not None:\n",
    "        similarity = np.dot(query_vector, root.readme_vector) / (np.linalg.norm(query_vector) * np.linalg.norm(root.readme_vector))\n",
    "        if similarity > max_similarity:  # Changed to check for greater similarity\n",
    "            max_similarity = similarity\n",
    "            closest_node = root\n",
    "\n",
    "    for child in root.children:\n",
    "        closest_node, max_similarity = find_closest_node(child, query_vector, max_similarity, closest_node)\n",
    "\n",
    "    return closest_node, max_similarity\n",
    "\n",
    "def search_and_read_readmes(root, query):\n",
    "    query_vector = embedding_model.encode(query)\n",
    "    closest_node, _ = find_closest_node(root, query_vector)\n",
    "\n",
    "    # Read READMEs from the closest node to the root\n",
    "    current_node = closest_node\n",
    "    while current_node is not None:\n",
    "        if current_node.readme_content:\n",
    "            print(f\"folder_path: {os.path.abspath(current_node.path)}\")\n",
    "        current_node = current_node.parent\n",
    "\n",
    "# Usage\n",
    "tree_root = build_tree(root_directory)  # Build the tree\n",
    "search_and_read_readmes(tree_root, \"testing\")"
   ]
  },
  {
   "cell_type": "code",
   "execution_count": null,
   "metadata": {},
   "outputs": [],
   "source": []
  }
 ],
 "metadata": {
  "kernelspec": {
   "display_name": "base",
   "language": "python",
   "name": "python3"
  },
  "language_info": {
   "codemirror_mode": {
    "name": "ipython",
    "version": 3
   },
   "file_extension": ".py",
   "mimetype": "text/x-python",
   "name": "python",
   "nbconvert_exporter": "python",
   "pygments_lexer": "ipython3",
   "version": "3.11.4"
  }
 },
 "nbformat": 4,
 "nbformat_minor": 2
}
